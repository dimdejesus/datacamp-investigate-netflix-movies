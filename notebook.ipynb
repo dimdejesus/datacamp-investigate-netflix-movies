{
 "cells": [
  {
   "cell_type": "code",
   "execution_count": 3,
   "id": "320a3abc-8a36-4b2b-baaf-473325363a4d",
   "metadata": {
    "executionCancelledAt": null,
    "executionTime": 34,
    "lastExecutedAt": 1742822177683,
    "lastExecutedByKernel": "ec3df95b-b57e-4397-8354-251971f34168",
    "lastScheduledRunId": null,
    "lastSuccessfullyExecutedCode": "# Importing pandas and matplotlib\nimport pandas as pd\nimport matplotlib.pyplot as plt\n\n# Read in the Netflix CSV as a DataFrame\nnetflix_df = pd.read_csv(\"netflix_data.csv\")"
   },
   "outputs": [],
   "source": [
    "# Importing pandas and matplotlib\n",
    "import pandas as pd\n",
    "import matplotlib.pyplot as plt\n",
    "\n",
    "# Read in the Netflix CSV as a DataFrame\n",
    "netflix_df = pd.read_csv(\"netflix_data.csv\")"
   ]
  },
  {
   "cell_type": "code",
   "execution_count": 13,
   "id": "72658473-114f-49eb-bd4e-cc03c710834a",
   "metadata": {
    "executionCancelledAt": null,
    "executionTime": 210,
    "lastExecutedAt": 1742822177893,
    "lastExecutedByKernel": "ec3df95b-b57e-4397-8354-251971f34168",
    "lastScheduledRunId": null,
    "lastSuccessfullyExecutedCode": "# Start coding here! Use as many cells as you like\nimport numpy as np\n\nmovie_90s = np.logical_and(netflix_df[\"release_year\"] >= 1990, netflix_df[\"release_year\"] < 2000)\nmovies = netflix_df[\"type\"] == \"Movie\"\n\nmovies_in_90s = netflix_df[np.logical_and(movie_90s, movies)]\n\nplt.hist(movies_in_90s[\"duration\"])\nplt.ylim(0, 60)\nplt.show()\n\nduration = 100\n\nshort_action_movie_condition = np.logical_and(movies_in_90s['duration'] < 90, movies_in_90s['genre'] == \"Action\")\n\nshort_movie_count = movies_in_90s[short_action_movie_condition].shape[0]",
    "outputsMetadata": {
     "0": {
      "height": 550,
      "tableState": {
       "customFilter": {
        "const": {
         "type": "boolean",
         "valid": true,
         "value": true
        },
        "id": "a3e76a1e-edd2-472d-a562-679e6513d45a",
        "nodeType": "const"
       },
       "quickFilterText": ""
      },
      "type": "dataFrame"
     },
     "1": {
      "height": 50,
      "tableState": {
       "customFilter": {
        "const": {
         "type": "boolean",
         "valid": true,
         "value": true
        },
        "id": "449a0f16-c978-4212-ad97-a86dce343784",
        "nodeType": "const"
       },
       "quickFilterText": ""
      },
      "type": "dataFrame"
     }
    }
   },
   "outputs": [
    {
     "data": {
      "image/png": "[encoded data removed]",
      "text/plain": [
       "<Figure size 640x480 with 1 Axes>"
      ]
     },
     "metadata": {},
     "output_type": "display_data"
    },
    {
     "name": "stdout",
     "output_type": "stream",
     "text": [
      "The most frequest duration of movies in 90's is around 100\n",
      "Number of Short Action Movies in 90's is 7\n"
     ]
    }
   ],
   "source": [
    "# Start coding here! Use as many cells as you like\n",
    "import numpy as np\n",
    "\n",
    "# Filter based on year it was released 90's is around 1990 to 1999 inclusive and by type movie\n",
    "movie_90s = np.logical_and(netflix_df[\"release_year\"] >= 1990, netflix_df[\"release_year\"] < 2000)\n",
    "movies = netflix_df[\"type\"] == \"Movie\"\n",
    "\n",
    "movies_in_90s = netflix_df[np.logical_and(movie_90s, movies)]\n",
    "\n",
    "plt.hist(movies_in_90s[\"duration\"])\n",
    "plt.xlabel(\"Duration (in mins)\")\n",
    "plt.ylabel(\"Number of Movies\")\n",
    "plt.ylim(0, 60)\n",
    "plt.show()\n",
    "\n",
    "duration = 100\n",
    "print(f\"The most frequest duration of movies in 90's is around {duration}\")\n",
    "\n",
    "# Filter by short action movie criteria\n",
    "# (1) the movie is less than 90 mins\n",
    "# (2) the genre is Action\n",
    "short_action_movie_condition = np.logical_and(movies_in_90s['duration'] < 90, movies_in_90s['genre'] == \"Action\")\n",
    "\n",
    "short_movie_count = movies_in_90s[short_action_movie_condition].shape[0] # Get the rows\n",
    "print(f\"Number of Short Action Movies in 90's is {short_movie_count}\")"
   ]
  },
  {
   "cell_type": "code",
   "execution_count": 84,
   "id": "d807615c-405e-4572-8e86-bbe624bfe19a",
   "metadata": {
    "executionCancelledAt": null,
    "executionTime": 45,
    "lastExecutedAt": 1742822177938,
    "lastExecutedByKernel": "ec3df95b-b57e-4397-8354-251971f34168",
    "lastScheduledRunId": null,
    "lastSuccessfullyExecutedCode": ""
   },
   "outputs": [],
   "source": []
  }
 ],
 "metadata": {
  "colab": {
   "name": "Welcome to DataCamp Workspaces.ipynb",
   "provenance": []
  },
  "editor": "DataLab",
  "kernelspec": {
   "display_name": "venv",
   "language": "python",
   "name": "python3"
  },
  "language_info": {
   "codemirror_mode": {
    "name": "ipython",
    "version": 3
   },
   "file_extension": ".py",
   "mimetype": "text/x-python",
   "name": "python",
   "nbconvert_exporter": "python",
   "pygments_lexer": "ipython3",
   "version": "3.10.12"
  }
 },
 "nbformat": 4,
 "nbformat_minor": 5
}
